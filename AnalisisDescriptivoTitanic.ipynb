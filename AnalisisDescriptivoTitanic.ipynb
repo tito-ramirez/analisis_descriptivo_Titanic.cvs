{
 "cells": [
  {
   "cell_type": "markdown",
   "id": "ca820fb5-d2b1-4329-a084-961942163786",
   "metadata": {},
   "source": [
    "# **Laboratorio 1, A Titanic Probability.**\n",
    "#### El 15 de abril de 1912 el transatlántico de pasajeros más grande jamas construido \"Titanic\" chocó con un iceberg durante su viaje inagural. En su hundimiento murieron 1502 pasajeros de los 2224 que iban a bordo incluyendo a su tripulación."
   ]
  },
  {
   "cell_type": "markdown",
   "id": "a90c050a-ae32-44e2-bf1c-08c56b7b52c8",
   "metadata": {},
   "source": [
    "#### El conjunto de datos \"titanic.csv\" contiene datos de 887 pasajeros reales del Titanic. Cada fila representa a una persona. \n",
    "\n",
    "#### Las columnas describen diferentes atributos sobre la persona: \n",
    "\n",
    "\n",
    "- sobrevivió (Survived)\n",
    "- clase de pasajero (Pclass)  \n",
    "- nombre (Name)\n",
    "- sexo (Sex)\n",
    "- edad (Age)\n",
    "- hermanos/conyugues abordo (Siblings/Spouses aboard) \n",
    "- padres/niños abordo (Parents/children Aboard)  \n",
    "- tarifa que pagó en £s (Fare)."
   ]
  },
  {
   "cell_type": "markdown",
   "id": "06c200d6-8bdd-4297-be34-d0542605c319",
   "metadata": {},
   "source": [
    "## **Cargando bibliotecas de python**"
   ]
  },
  {
   "cell_type": "code",
   "execution_count": 132,
   "id": "1d40921c-352b-496a-bae8-b2c363c64ea6",
   "metadata": {},
   "outputs": [],
   "source": [
    "import pandas as pd #se importan el modulo panda para el trabajo con el DataSet\n",
    "import matplotlib.pyplot as plt #para plotear graficas\n",
    "import pandas_profiling #los siguientes para generar el ProfileReport\n",
    "from pandas_profiling import ProfileReport\n",
    "from pandas_profiling.utils.cache import cache_file\n",
    "import seaborn as sns #para graficar"
   ]
  },
  {
   "cell_type": "markdown",
   "id": "2a1b95a3-a8b8-46c7-954e-b152c3154d33",
   "metadata": {},
   "source": [
    "## **Cargando Datos**"
   ]
  },
  {
   "cell_type": "code",
   "execution_count": 133,
   "id": "6c450c08-542b-4659-b8d5-4b9a6be9cc81",
   "metadata": {},
   "outputs": [
    {
     "data": {
      "text/html": [
       "<div>\n",
       "<style scoped>\n",
       "    .dataframe tbody tr th:only-of-type {\n",
       "        vertical-align: middle;\n",
       "    }\n",
       "\n",
       "    .dataframe tbody tr th {\n",
       "        vertical-align: top;\n",
       "    }\n",
       "\n",
       "    .dataframe thead th {\n",
       "        text-align: right;\n",
       "    }\n",
       "</style>\n",
       "<table border=\"1\" class=\"dataframe\">\n",
       "  <thead>\n",
       "    <tr style=\"text-align: right;\">\n",
       "      <th></th>\n",
       "      <th>Survived</th>\n",
       "      <th>Pclass</th>\n",
       "      <th>Name</th>\n",
       "      <th>Sex</th>\n",
       "      <th>Age</th>\n",
       "      <th>Siblings/Spouses Aboard</th>\n",
       "      <th>Parents/Children Aboard</th>\n",
       "      <th>Fare</th>\n",
       "    </tr>\n",
       "  </thead>\n",
       "  <tbody>\n",
       "    <tr>\n",
       "      <th>0</th>\n",
       "      <td>0</td>\n",
       "      <td>3</td>\n",
       "      <td>Mr. Owen Harris Braund</td>\n",
       "      <td>male</td>\n",
       "      <td>22.0</td>\n",
       "      <td>1</td>\n",
       "      <td>0</td>\n",
       "      <td>7.2500</td>\n",
       "    </tr>\n",
       "    <tr>\n",
       "      <th>1</th>\n",
       "      <td>1</td>\n",
       "      <td>1</td>\n",
       "      <td>Mrs. John Bradley (Florence Briggs Thayer) Cum...</td>\n",
       "      <td>female</td>\n",
       "      <td>38.0</td>\n",
       "      <td>1</td>\n",
       "      <td>0</td>\n",
       "      <td>71.2833</td>\n",
       "    </tr>\n",
       "    <tr>\n",
       "      <th>2</th>\n",
       "      <td>1</td>\n",
       "      <td>3</td>\n",
       "      <td>Miss. Laina Heikkinen</td>\n",
       "      <td>female</td>\n",
       "      <td>26.0</td>\n",
       "      <td>0</td>\n",
       "      <td>0</td>\n",
       "      <td>7.9250</td>\n",
       "    </tr>\n",
       "    <tr>\n",
       "      <th>3</th>\n",
       "      <td>1</td>\n",
       "      <td>1</td>\n",
       "      <td>Mrs. Jacques Heath (Lily May Peel) Futrelle</td>\n",
       "      <td>female</td>\n",
       "      <td>35.0</td>\n",
       "      <td>1</td>\n",
       "      <td>0</td>\n",
       "      <td>53.1000</td>\n",
       "    </tr>\n",
       "    <tr>\n",
       "      <th>4</th>\n",
       "      <td>0</td>\n",
       "      <td>3</td>\n",
       "      <td>Mr. William Henry Allen</td>\n",
       "      <td>male</td>\n",
       "      <td>35.0</td>\n",
       "      <td>0</td>\n",
       "      <td>0</td>\n",
       "      <td>8.0500</td>\n",
       "    </tr>\n",
       "  </tbody>\n",
       "</table>\n",
       "</div>"
      ],
      "text/plain": [
       "   Survived  Pclass                                               Name  \\\n",
       "0         0       3                             Mr. Owen Harris Braund   \n",
       "1         1       1  Mrs. John Bradley (Florence Briggs Thayer) Cum...   \n",
       "2         1       3                              Miss. Laina Heikkinen   \n",
       "3         1       1        Mrs. Jacques Heath (Lily May Peel) Futrelle   \n",
       "4         0       3                            Mr. William Henry Allen   \n",
       "\n",
       "      Sex   Age  Siblings/Spouses Aboard  Parents/Children Aboard     Fare  \n",
       "0    male  22.0                        1                        0   7.2500  \n",
       "1  female  38.0                        1                        0  71.2833  \n",
       "2  female  26.0                        0                        0   7.9250  \n",
       "3  female  35.0                        1                        0  53.1000  \n",
       "4    male  35.0                        0                        0   8.0500  "
      ]
     },
     "execution_count": 133,
     "metadata": {},
     "output_type": "execute_result"
    }
   ],
   "source": [
    "df = pd.read_csv('titanic.csv',sep=',')#notar que los archivos estan separados por coma no por punto y coma\n",
    "df.head() #para comprobar como cargaron los datos"
   ]
  },
  {
   "cell_type": "code",
   "execution_count": 134,
   "id": "9f08828f-d01c-4507-8700-c398d450070a",
   "metadata": {},
   "outputs": [
    {
     "name": "stdout",
     "output_type": "stream",
     "text": [
      "<class 'pandas.core.frame.DataFrame'>\n",
      "RangeIndex: 887 entries, 0 to 886\n",
      "Data columns (total 8 columns):\n",
      " #   Column                   Non-Null Count  Dtype  \n",
      "---  ------                   --------------  -----  \n",
      " 0   Survived                 887 non-null    int64  \n",
      " 1   Pclass                   887 non-null    int64  \n",
      " 2   Name                     887 non-null    object \n",
      " 3   Sex                      887 non-null    object \n",
      " 4   Age                      887 non-null    float64\n",
      " 5   Siblings/Spouses Aboard  887 non-null    int64  \n",
      " 6   Parents/Children Aboard  887 non-null    int64  \n",
      " 7   Fare                     887 non-null    float64\n",
      "dtypes: float64(2), int64(4), object(2)\n",
      "memory usage: 55.6+ KB\n"
     ]
    }
   ],
   "source": [
    "df.info()#identificando el tipo de dato"
   ]
  },
  {
   "cell_type": "markdown",
   "id": "13dcfe04-2dc2-42a5-8e18-d7a8720155ba",
   "metadata": {},
   "source": [
    "#### Los Dtype estan bien asignados siendo enteros, tipo coma flotante y objetos para las cadenas\n",
    "#### Podemos observar que se tienen 5 tipos de datos cuantitativos:\n",
    "\n",
    "- Age\n",
    "- Siblings/Spouses Aboard\n",
    "- Parents/Children Aboard\n",
    "- Fare\n",
    "\n",
    "#### Y los otros 3 son cualitativos nominales:\n",
    "- Survived \n",
    "- Pclass\n",
    "- Name\n",
    "- Sex\n",
    "\n",
    "#### El tipo Name podria quedar como un identificador unico de cada fila ya que ningun nombre de pasajero se repite, asi moveremos esta columna a la primera posicion de izquierda a derecha\n",
    "#### Tambien podemos decir que los tipos de datos estan bien asignados a cada variable ademas que no existen elementos nulos."
   ]
  },
  {
   "cell_type": "code",
   "execution_count": 135,
   "id": "7d0e7e49-2c60-4e4e-ab41-e0cc431ff894",
   "metadata": {},
   "outputs": [
    {
     "data": {
      "text/html": [
       "<div>\n",
       "<style scoped>\n",
       "    .dataframe tbody tr th:only-of-type {\n",
       "        vertical-align: middle;\n",
       "    }\n",
       "\n",
       "    .dataframe tbody tr th {\n",
       "        vertical-align: top;\n",
       "    }\n",
       "\n",
       "    .dataframe thead th {\n",
       "        text-align: right;\n",
       "    }\n",
       "</style>\n",
       "<table border=\"1\" class=\"dataframe\">\n",
       "  <thead>\n",
       "    <tr style=\"text-align: right;\">\n",
       "      <th></th>\n",
       "      <th>Name</th>\n",
       "      <th>Survived</th>\n",
       "      <th>Pclass</th>\n",
       "      <th>Sex</th>\n",
       "      <th>Age</th>\n",
       "      <th>SiblingsSpousesAboard</th>\n",
       "      <th>ParentsChildrenAboard</th>\n",
       "      <th>Fare</th>\n",
       "    </tr>\n",
       "  </thead>\n",
       "  <tbody>\n",
       "    <tr>\n",
       "      <th>0</th>\n",
       "      <td>Mr. Owen Harris Braund</td>\n",
       "      <td>0</td>\n",
       "      <td>3</td>\n",
       "      <td>male</td>\n",
       "      <td>22.0</td>\n",
       "      <td>1</td>\n",
       "      <td>0</td>\n",
       "      <td>7.2500</td>\n",
       "    </tr>\n",
       "    <tr>\n",
       "      <th>1</th>\n",
       "      <td>Mrs. John Bradley (Florence Briggs Thayer) Cum...</td>\n",
       "      <td>1</td>\n",
       "      <td>1</td>\n",
       "      <td>female</td>\n",
       "      <td>38.0</td>\n",
       "      <td>1</td>\n",
       "      <td>0</td>\n",
       "      <td>71.2833</td>\n",
       "    </tr>\n",
       "    <tr>\n",
       "      <th>2</th>\n",
       "      <td>Miss. Laina Heikkinen</td>\n",
       "      <td>1</td>\n",
       "      <td>3</td>\n",
       "      <td>female</td>\n",
       "      <td>26.0</td>\n",
       "      <td>0</td>\n",
       "      <td>0</td>\n",
       "      <td>7.9250</td>\n",
       "    </tr>\n",
       "    <tr>\n",
       "      <th>3</th>\n",
       "      <td>Mrs. Jacques Heath (Lily May Peel) Futrelle</td>\n",
       "      <td>1</td>\n",
       "      <td>1</td>\n",
       "      <td>female</td>\n",
       "      <td>35.0</td>\n",
       "      <td>1</td>\n",
       "      <td>0</td>\n",
       "      <td>53.1000</td>\n",
       "    </tr>\n",
       "    <tr>\n",
       "      <th>4</th>\n",
       "      <td>Mr. William Henry Allen</td>\n",
       "      <td>0</td>\n",
       "      <td>3</td>\n",
       "      <td>male</td>\n",
       "      <td>35.0</td>\n",
       "      <td>0</td>\n",
       "      <td>0</td>\n",
       "      <td>8.0500</td>\n",
       "    </tr>\n",
       "  </tbody>\n",
       "</table>\n",
       "</div>"
      ],
      "text/plain": [
       "                                                Name  Survived  Pclass  \\\n",
       "0                             Mr. Owen Harris Braund         0       3   \n",
       "1  Mrs. John Bradley (Florence Briggs Thayer) Cum...         1       1   \n",
       "2                              Miss. Laina Heikkinen         1       3   \n",
       "3        Mrs. Jacques Heath (Lily May Peel) Futrelle         1       1   \n",
       "4                            Mr. William Henry Allen         0       3   \n",
       "\n",
       "      Sex   Age  SiblingsSpousesAboard  ParentsChildrenAboard     Fare  \n",
       "0    male  22.0                      1                      0   7.2500  \n",
       "1  female  38.0                      1                      0  71.2833  \n",
       "2  female  26.0                      0                      0   7.9250  \n",
       "3  female  35.0                      1                      0  53.1000  \n",
       "4    male  35.0                      0                      0   8.0500  "
      ]
     },
     "execution_count": 135,
     "metadata": {},
     "output_type": "execute_result"
    }
   ],
   "source": [
    "cols = df.columns.tolist()\n",
    "reorder_cols = cols[-6:-5] + cols[0:2] + cols[3:] \n",
    "df1 = df[reorder_cols] #cambia el orden del DataFrame dejando a Name al principio\n",
    "df1.columns = ['Name', 'Survived', 'Pclass', 'Sex', 'Age', 'SiblingsSpousesAboard', 'ParentsChildrenAboard', 'Fare'] #Renombrando nombres de columnas para que no tengamos problemas al invocarlas\n",
    "df1.head() #Asi quedara el DataFrame con el que trabajaremos"
   ]
  },
  {
   "cell_type": "markdown",
   "id": "e7c975c7-2b52-440b-8db5-2cd1aa58f00f",
   "metadata": {},
   "source": [
    "## **Análisis descriptivo**"
   ]
  },
  {
   "cell_type": "markdown",
   "id": "7f5ef636-80e7-4e8d-b63e-e3c5a582ba23",
   "metadata": {},
   "source": [
    "### Primero analizaremos las variables cualitativas nominales"
   ]
  },
  {
   "cell_type": "markdown",
   "id": "621e4ca7-eb05-4776-9322-ebe16d33d14f",
   "metadata": {
    "jp-MarkdownHeadingCollapsed": true,
    "tags": []
   },
   "source": [
    "### Variable `Pclass`"
   ]
  },
  {
   "cell_type": "code",
   "execution_count": 136,
   "id": "7a1262b0-1aa7-4485-bd8b-2c0d83e8a1fc",
   "metadata": {},
   "outputs": [
    {
     "data": {
      "text/html": [
       "<div>\n",
       "<style scoped>\n",
       "    .dataframe tbody tr th:only-of-type {\n",
       "        vertical-align: middle;\n",
       "    }\n",
       "\n",
       "    .dataframe tbody tr th {\n",
       "        vertical-align: top;\n",
       "    }\n",
       "\n",
       "    .dataframe thead th {\n",
       "        text-align: right;\n",
       "    }\n",
       "</style>\n",
       "<table border=\"1\" class=\"dataframe\">\n",
       "  <thead>\n",
       "    <tr style=\"text-align: right;\">\n",
       "      <th></th>\n",
       "      <th>Frequency</th>\n",
       "    </tr>\n",
       "    <tr>\n",
       "      <th>Pclass</th>\n",
       "      <th></th>\n",
       "    </tr>\n",
       "  </thead>\n",
       "  <tbody>\n",
       "    <tr>\n",
       "      <th>1</th>\n",
       "      <td>216</td>\n",
       "    </tr>\n",
       "    <tr>\n",
       "      <th>2</th>\n",
       "      <td>184</td>\n",
       "    </tr>\n",
       "    <tr>\n",
       "      <th>3</th>\n",
       "      <td>487</td>\n",
       "    </tr>\n",
       "  </tbody>\n",
       "</table>\n",
       "</div>"
      ],
      "text/plain": [
       "        Frequency\n",
       "Pclass           \n",
       "1             216\n",
       "2             184\n",
       "3             487"
      ]
     },
     "execution_count": 136,
     "metadata": {},
     "output_type": "execute_result"
    }
   ],
   "source": [
    "df1.groupby(\"Pclass\").agg(Frequency=(\"Pclass\", \"count\")) #se crea la tabla de frecuencias para la variable Pclass"
   ]
  },
  {
   "cell_type": "code",
   "execution_count": 137,
   "id": "699213aa-6092-4155-84ce-e2a2341fe5b7",
   "metadata": {},
   "outputs": [
    {
     "data": {
      "image/png": "[encoded data removed]",
      "text/plain": [
       "<Figure size 432x288 with 1 Axes>"
      ]
     },
     "metadata": {},
     "output_type": "display_data"
    }
   ],
   "source": [
    "countsPclase = df1.Pclass.value_counts()\n",
    "sns.set(color_codes = True) \n",
    "sns.barplot(x=countsPclase.index, y=countsPclase.values, palette=\"OrRd\") #Genera el grafico de barras\n",
    "plt.show() #Muestra el grafico"
   ]
  },
  {
   "cell_type": "markdown",
   "id": "e21f8fbd-445f-41ad-b74a-2709eaef9f84",
   "metadata": {},
   "source": [
    "#### Se puede observar que la mayor frecuencia y por tanto la moda son las personas que ocupan la clase tres"
   ]
  },
  {
   "cell_type": "code",
   "execution_count": 138,
   "id": "1a5e2e6d-dd85-4bf8-a2a1-c8dbb2c39e35",
   "metadata": {},
   "outputs": [
    {
     "data": {
      "image/png": "[encoded data removed]",
      "text/plain": [
       "<Figure size 720x360 with 1 Axes>"
      ]
     },
     "metadata": {},
     "output_type": "display_data"
    }
   ],
   "source": [
    "PLOT_SIZE = 5\n",
    "fig = plt.figure(figsize = (10,5))\n",
    "ax = fig.add_axes([0,0,1,1])\n",
    "plt.title(\"Parte del total clase de pasajero\")\n",
    "plt.pie(countsPclase.values[:PLOT_SIZE], labels = countsPclase.index[:PLOT_SIZE])\n",
    "plt.show()"
   ]
  },
  {
   "cell_type": "markdown",
   "id": "2a1b8c88-89dc-45a3-84af-db9a74001edc",
   "metadata": {},
   "source": [
    "#### La tercera clase es la que habia en mayor cantidad en esta muestra de 887 pasajeros"
   ]
  },
  {
   "cell_type": "markdown",
   "id": "b4e7f347-de9c-4967-bb4e-55648c61e75d",
   "metadata": {
    "jp-MarkdownHeadingCollapsed": true,
    "tags": []
   },
   "source": [
    "### Variable `Sex`"
   ]
  },
  {
   "cell_type": "code",
   "execution_count": 139,
   "id": "1a38a3fd-b4b2-4d14-8e7d-666e9eb40d7b",
   "metadata": {},
   "outputs": [
    {
     "data": {
      "text/html": [
       "<div>\n",
       "<style scoped>\n",
       "    .dataframe tbody tr th:only-of-type {\n",
       "        vertical-align: middle;\n",
       "    }\n",
       "\n",
       "    .dataframe tbody tr th {\n",
       "        vertical-align: top;\n",
       "    }\n",
       "\n",
       "    .dataframe thead th {\n",
       "        text-align: right;\n",
       "    }\n",
       "</style>\n",
       "<table border=\"1\" class=\"dataframe\">\n",
       "  <thead>\n",
       "    <tr style=\"text-align: right;\">\n",
       "      <th></th>\n",
       "      <th>Frequency</th>\n",
       "    </tr>\n",
       "    <tr>\n",
       "      <th>Sex</th>\n",
       "      <th></th>\n",
       "    </tr>\n",
       "  </thead>\n",
       "  <tbody>\n",
       "    <tr>\n",
       "      <th>female</th>\n",
       "      <td>314</td>\n",
       "    </tr>\n",
       "    <tr>\n",
       "      <th>male</th>\n",
       "      <td>573</td>\n",
       "    </tr>\n",
       "  </tbody>\n",
       "</table>\n",
       "</div>"
      ],
      "text/plain": [
       "        Frequency\n",
       "Sex              \n",
       "female        314\n",
       "male          573"
      ]
     },
     "execution_count": 139,
     "metadata": {},
     "output_type": "execute_result"
    }
   ],
   "source": [
    "(df1.groupby(\"Sex\").agg(Frequency=(\"Sex\", \"count\"))) #Muestra la tabla de frecuencia"
   ]
  },
  {
   "cell_type": "code",
   "execution_count": 140,
   "id": "adba4749-cb97-4a21-85b3-470239d78df0",
   "metadata": {},
   "outputs": [
    {
     "data": {
      "image/png": "[encoded data removed]",
      "text/plain": [
       "<Figure size 432x288 with 1 Axes>"
      ]
     },
     "metadata": {},
     "output_type": "display_data"
    }
   ],
   "source": [
    "countsSex = df1.Sex.value_counts()\n",
    "sns.set(color_codes = True) \n",
    "sns.barplot(x = countsSex.index, y = countsSex.values, palette = \"OrRd\") #Genera el grafico de barras\n",
    "plt.show() #muestra el grafico"
   ]
  },
  {
   "cell_type": "markdown",
   "id": "7c2fb82f-2e87-4141-8a8c-1e3dcc1bb32d",
   "metadata": {},
   "source": [
    "#### Se puede observar una mayor cantidad de hombres que mujeres del total de 887 pasajeros"
   ]
  },
  {
   "cell_type": "code",
   "execution_count": 141,
   "id": "8a711e35-1001-47d5-b1a0-b4f3a1a4e708",
   "metadata": {},
   "outputs": [
    {
     "data": {
      "image/png": "[encoded data removed]",
      "text/plain": [
       "<Figure size 720x360 with 1 Axes>"
      ]
     },
     "metadata": {},
     "output_type": "display_data"
    }
   ],
   "source": [
    "PLOT_SIZE = 5\n",
    "fig = plt.figure(figsize = (10,5))\n",
    "ax = fig.add_axes([0,0,1,1])\n",
    "plt.title(\"Parte del total sexo pasajero\")\n",
    "plt.pie(countsSex.values[:PLOT_SIZE], labels = countsSex.index[:PLOT_SIZE])\n",
    "plt.show()"
   ]
  },
  {
   "cell_type": "markdown",
   "id": "5b149d8b-cecd-4150-8ae7-cdf458e97ba3",
   "metadata": {},
   "source": [
    "#### Se puede observar en este grafico de torta la proporcion entre hombres y mujeres de los 887 pasajeros"
   ]
  },
  {
   "cell_type": "markdown",
   "id": "a49d0174-5e98-4016-8d11-60f6568a5cc4",
   "metadata": {
    "jp-MarkdownHeadingCollapsed": true,
    "tags": []
   },
   "source": [
    "### Variable `Suvived`"
   ]
  },
  {
   "cell_type": "code",
   "execution_count": 142,
   "id": "5d075308-8617-4dfa-a61c-83599b5b36e3",
   "metadata": {},
   "outputs": [
    {
     "data": {
      "text/html": [
       "<div>\n",
       "<style scoped>\n",
       "    .dataframe tbody tr th:only-of-type {\n",
       "        vertical-align: middle;\n",
       "    }\n",
       "\n",
       "    .dataframe tbody tr th {\n",
       "        vertical-align: top;\n",
       "    }\n",
       "\n",
       "    .dataframe thead th {\n",
       "        text-align: right;\n",
       "    }\n",
       "</style>\n",
       "<table border=\"1\" class=\"dataframe\">\n",
       "  <thead>\n",
       "    <tr style=\"text-align: right;\">\n",
       "      <th></th>\n",
       "      <th>Frequency</th>\n",
       "    </tr>\n",
       "    <tr>\n",
       "      <th>Survived</th>\n",
       "      <th></th>\n",
       "    </tr>\n",
       "  </thead>\n",
       "  <tbody>\n",
       "    <tr>\n",
       "      <th>0</th>\n",
       "      <td>545</td>\n",
       "    </tr>\n",
       "    <tr>\n",
       "      <th>1</th>\n",
       "      <td>342</td>\n",
       "    </tr>\n",
       "  </tbody>\n",
       "</table>\n",
       "</div>"
      ],
      "text/plain": [
       "          Frequency\n",
       "Survived           \n",
       "0               545\n",
       "1               342"
      ]
     },
     "execution_count": 142,
     "metadata": {},
     "output_type": "execute_result"
    }
   ],
   "source": [
    "df1.groupby(\"Survived\").agg(Frequency=(\"Survived\", \"count\")) #se crea la tabla de frecuencias"
   ]
  },
  {
   "cell_type": "markdown",
   "id": "2c9b04c2-45e4-4bef-8cbf-a82621587142",
   "metadata": {},
   "source": [
    "#### Donde 0 es no sobrevive y 1 sobrivivio"
   ]
  },
  {
   "cell_type": "code",
   "execution_count": 143,
   "id": "79cbf73c-acca-43ac-a512-699baac8468b",
   "metadata": {},
   "outputs": [
    {
     "data": {
      "image/png": "[encoded data removed]",
      "text/plain": [
       "<Figure size 432x288 with 1 Axes>"
      ]
     },
     "metadata": {},
     "output_type": "display_data"
    }
   ],
   "source": [
    "countsSurvived = df1.Survived.value_counts()\n",
    "sns.set(color_codes = True) \n",
    "sns.barplot(x=countsSurvived.index, y=countsSurvived.values, palette=\"OrRd\")\n",
    "plt.show()"
   ]
  },
  {
   "cell_type": "markdown",
   "id": "734019bd-9011-441b-ba9c-25f12503f367",
   "metadata": {},
   "source": [
    "#### Se observa que la mayor frecuencia la tienen los supervivientes"
   ]
  },
  {
   "cell_type": "code",
   "execution_count": 144,
   "id": "fe30e388-845f-49a4-abff-b8a18a67fd5b",
   "metadata": {},
   "outputs": [
    {
     "data": {
      "image/png": "[encoded data removed]",
      "text/plain": [
       "<Figure size 720x360 with 1 Axes>"
      ]
     },
     "metadata": {},
     "output_type": "display_data"
    }
   ],
   "source": [
    "\n",
    "PLOT_SIZE = 5\n",
    "fig = plt.figure(figsize = (10,5))\n",
    "ax = fig.add_axes([0,0,1,1])\n",
    "plt.title(\"Parte del total sexo pasajero\")\n",
    "plt.pie(countsSurvived.values[:PLOT_SIZE], labels = countsSurvived.index[:PLOT_SIZE])\n",
    "plt.show()"
   ]
  },
  {
   "cell_type": "markdown",
   "id": "57513548-c4aa-45a3-91a6-05550738b8a3",
   "metadata": {},
   "source": [
    "#### Aqui la proporcion entre superviviente y no superviviente en este diagrama de torta"
   ]
  },
  {
   "cell_type": "markdown",
   "id": "7f83bd30-cef8-4516-9d04-0aa4a020a93d",
   "metadata": {
    "tags": []
   },
   "source": [
    "### Ahora las variables cuantitativas"
   ]
  },
  {
   "cell_type": "markdown",
   "id": "6fbc827c-af04-479b-8beb-5f6bd11d9ced",
   "metadata": {
    "tags": []
   },
   "source": [
    "### Variable `Age`"
   ]
  },
  {
   "cell_type": "code",
   "execution_count": 145,
   "id": "13eeb736-1a97-4e4d-bae2-a79ee508c316",
   "metadata": {},
   "outputs": [
    {
     "data": {
      "text/html": [
       "<div>\n",
       "<style scoped>\n",
       "    .dataframe tbody tr th:only-of-type {\n",
       "        vertical-align: middle;\n",
       "    }\n",
       "\n",
       "    .dataframe tbody tr th {\n",
       "        vertical-align: top;\n",
       "    }\n",
       "\n",
       "    .dataframe thead th {\n",
       "        text-align: right;\n",
       "    }\n",
       "</style>\n",
       "<table border=\"1\" class=\"dataframe\">\n",
       "  <thead>\n",
       "    <tr style=\"text-align: right;\">\n",
       "      <th></th>\n",
       "      <th>Frequency</th>\n",
       "    </tr>\n",
       "    <tr>\n",
       "      <th>Age</th>\n",
       "      <th></th>\n",
       "    </tr>\n",
       "  </thead>\n",
       "  <tbody>\n",
       "    <tr>\n",
       "      <th>0.42</th>\n",
       "      <td>1</td>\n",
       "    </tr>\n",
       "    <tr>\n",
       "      <th>0.67</th>\n",
       "      <td>1</td>\n",
       "    </tr>\n",
       "    <tr>\n",
       "      <th>0.75</th>\n",
       "      <td>2</td>\n",
       "    </tr>\n",
       "    <tr>\n",
       "      <th>0.83</th>\n",
       "      <td>2</td>\n",
       "    </tr>\n",
       "    <tr>\n",
       "      <th>0.92</th>\n",
       "      <td>1</td>\n",
       "    </tr>\n",
       "    <tr>\n",
       "      <th>...</th>\n",
       "      <td>...</td>\n",
       "    </tr>\n",
       "    <tr>\n",
       "      <th>70.00</th>\n",
       "      <td>2</td>\n",
       "    </tr>\n",
       "    <tr>\n",
       "      <th>70.50</th>\n",
       "      <td>1</td>\n",
       "    </tr>\n",
       "    <tr>\n",
       "      <th>71.00</th>\n",
       "      <td>2</td>\n",
       "    </tr>\n",
       "    <tr>\n",
       "      <th>74.00</th>\n",
       "      <td>1</td>\n",
       "    </tr>\n",
       "    <tr>\n",
       "      <th>80.00</th>\n",
       "      <td>1</td>\n",
       "    </tr>\n",
       "  </tbody>\n",
       "</table>\n",
       "<p>89 rows × 1 columns</p>\n",
       "</div>"
      ],
      "text/plain": [
       "       Frequency\n",
       "Age             \n",
       "0.42           1\n",
       "0.67           1\n",
       "0.75           2\n",
       "0.83           2\n",
       "0.92           1\n",
       "...          ...\n",
       "70.00          2\n",
       "70.50          1\n",
       "71.00          2\n",
       "74.00          1\n",
       "80.00          1\n",
       "\n",
       "[89 rows x 1 columns]"
      ]
     },
     "execution_count": 145,
     "metadata": {},
     "output_type": "execute_result"
    }
   ],
   "source": [
    "(df1.groupby(\"Age\").agg(Frequency=(\"Age\", \"count\"))) #Muestra la tabla de frecuencia"
   ]
  },
  {
   "cell_type": "markdown",
   "id": "e398cfdd-3ce3-4d76-9d99-2e7288d23171",
   "metadata": {},
   "source": [
    "#### Se puede apreciar pasajeros de todas las edades desde bebes hasta ancianos"
   ]
  },
  {
   "cell_type": "code",
   "execution_count": 146,
   "id": "80859a7e-aaef-476f-8acc-d97656bcca2b",
   "metadata": {},
   "outputs": [
    {
     "data": {
      "image/png": "[encoded data removed]",
      "text/plain": [
       "<Figure size 2880x360 with 1 Axes>"
      ]
     },
     "metadata": {},
     "output_type": "display_data"
    }
   ],
   "source": [
    "countsAge = df1.Age.value_counts()\n",
    "fig = plt.figure(figsize = (40,5))\n",
    "ax = fig.add_axes([1,0,1,1])\n",
    "sns.set(color_codes = True) \n",
    "sns.barplot(x=countsAge.index, y=countsAge.values, palette=\"OrRd\") #Genera el grafico de barras\n",
    "plt.show()"
   ]
  },
  {
   "cell_type": "markdown",
   "id": "adc31acd-23da-43d7-86d7-aea8c862bf8f",
   "metadata": {},
   "source": [
    "#### Haciendo doble click izquierdo sobre el grafico se puede ver de mejor manera. Se puede observar que la mayor cantidad de gente esta entre los 18 y 40 años como tambien que los ancianos y bebes son solo unos cuantos. EL minimo de edad es de 0.42 años el maximo de 80 años."
   ]
  },
  {
   "cell_type": "markdown",
   "id": "a869a4fc-1213-4603-9243-d7ddccfe2be7",
   "metadata": {},
   "source": [
    "#### <span style=\"color: #7A3BDB\">Medidas de centralización</span>"
   ]
  },
  {
   "cell_type": "code",
   "execution_count": 147,
   "id": "6a4c4c23-0013-437c-bcbc-0c8c7291c250",
   "metadata": {},
   "outputs": [
    {
     "name": "stdout",
     "output_type": "stream",
     "text": [
      "29.471443066516347\n"
     ]
    }
   ],
   "source": [
    "meanAge = df1['Age'].mean() # calculo media\n",
    "print(meanAge)"
   ]
  },
  {
   "cell_type": "markdown",
   "id": "147f63f0-47e1-4459-8ead-552391238620",
   "metadata": {},
   "source": [
    "#### Osea la edad promedio es de unos 29,5 años"
   ]
  },
  {
   "cell_type": "code",
   "execution_count": 148,
   "id": "0f384fd1-bd54-4cb0-a03e-b34cb3c13da8",
   "metadata": {},
   "outputs": [
    {
     "name": "stdout",
     "output_type": "stream",
     "text": [
      "28.0\n"
     ]
    }
   ],
   "source": [
    "medianAge = df1['Age'].median() # Calculo mediana\n",
    "print(medianAge)"
   ]
  },
  {
   "cell_type": "markdown",
   "id": "6c10f382-999b-410e-a1a0-556dff44f5dd",
   "metadata": {},
   "source": [
    "#### Para los 887 pasajeros la mitad inferior tiene menos que 28 años y la superior mas de esta edad"
   ]
  },
  {
   "cell_type": "code",
   "execution_count": 149,
   "id": "a76729ae-36a0-4b03-8206-8b5e7d50a239",
   "metadata": {},
   "outputs": [
    {
     "name": "stdout",
     "output_type": "stream",
     "text": [
      "0    22.0\n",
      "Name: Age, dtype: float64\n"
     ]
    }
   ],
   "source": [
    "modeAge = df1['Age'].mode() # Calculo moda\n",
    "print(modeAge)"
   ]
  },
  {
   "cell_type": "markdown",
   "id": "2e0b6149-a242-4cb7-badb-1f316264757d",
   "metadata": {},
   "source": [
    "#### 22 años es la edad que mas recurrente en la tripulacion de 887 personas"
   ]
  },
  {
   "cell_type": "markdown",
   "id": "989550a6-3bc8-4a89-bda1-c68f5991e0e0",
   "metadata": {},
   "source": [
    "#### <span style=\"color: #7A3BDB\">Medidas de posición</span>"
   ]
  },
  {
   "cell_type": "code",
   "execution_count": 150,
   "id": "a2126b4d-2e7e-4574-86d2-32854a6dc42a",
   "metadata": {},
   "outputs": [
    {
     "name": "stdout",
     "output_type": "stream",
     "text": [
      "20.25\n"
     ]
    }
   ],
   "source": [
    "percentile25Age = df1['Age'].quantile(0.25) # Percentil 25\n",
    "print(percentile25Age)"
   ]
  },
  {
   "cell_type": "markdown",
   "id": "2d084eaa-4605-4bc2-b902-6510fd195668",
   "metadata": {},
   "source": [
    "#### EL 25% de todos los datos de edad tiene hasta 20.25 años"
   ]
  },
  {
   "cell_type": "code",
   "execution_count": 151,
   "id": "0d186f14-716b-454b-8560-45eb76dba1dd",
   "metadata": {},
   "outputs": [
    {
     "name": "stdout",
     "output_type": "stream",
     "text": [
      "38.0\n"
     ]
    }
   ],
   "source": [
    "percentile75Age = df1['Age'].quantile(0.75) # Percentil 75\n",
    "print(percentile75Age)"
   ]
  },
  {
   "cell_type": "markdown",
   "id": "f79b3cf4-6b45-458d-b367-9e51e0bdb3f1",
   "metadata": {},
   "source": [
    "#### EL 75% de la distribucion de datos se acumula hasta los 38 años"
   ]
  },
  {
   "cell_type": "code",
   "execution_count": 152,
   "id": "71eb0fdb-c730-4674-9f5c-47a6bc597165",
   "metadata": {},
   "outputs": [
    {
     "data": {
      "text/plain": [
       "<AxesSubplot:xlabel='Age'>"
      ]
     },
     "execution_count": 152,
     "metadata": {},
     "output_type": "execute_result"
    },
    {
     "data": {
      "image/png": "[encoded data removed]",
      "text/plain": [
       "<Figure size 432x288 with 1 Axes>"
      ]
     },
     "metadata": {},
     "output_type": "display_data"
    }
   ],
   "source": [
    "sns.boxplot( x=df[\"Age\"]) #Genera el diagrama de caja y bigote"
   ]
  },
  {
   "cell_type": "markdown",
   "id": "063d2268-02bc-4162-841a-65dad814fe1c",
   "metadata": {},
   "source": [
    "#### La mediana bordea los 30 años, el primer cuartil los 20 y el tercer quartil los 40 años, su extremo inferior y superior son 0 y casi 65 respectivamente con datos atipicos pasando este extremo, tambien se puede observar que es levemente asimetrico hacia la izquierda y que los datos no estan agrupados."
   ]
  },
  {
   "cell_type": "markdown",
   "id": "0c35c25d-8bf4-4122-887f-dd1fc27fc3d0",
   "metadata": {},
   "source": [
    "#### <span style=\"color: #7A3BDB\">Medidas de dispersión</span>"
   ]
  },
  {
   "cell_type": "code",
   "execution_count": 153,
   "id": "a08a4c2a-5fa5-4e75-8f02-415324d7b5ba",
   "metadata": {},
   "outputs": [
    {
     "name": "stdout",
     "output_type": "stream",
     "text": [
      "199.42829701227413\n"
     ]
    }
   ],
   "source": [
    "varianceAge = df1['Age'].var()# Calculo Varianza\n",
    "print(varianceAge)"
   ]
  },
  {
   "cell_type": "markdown",
   "id": "9eb01e42-fbf1-4876-aad0-8cc70bfd5cf6",
   "metadata": {},
   "source": [
    "#### La varianza es muy alta esto quiere decir que existe mucha dispersion entre los datos respecto a la media"
   ]
  },
  {
   "cell_type": "code",
   "execution_count": 154,
   "id": "a1946469-f6ef-429a-8c4c-d31fa9562f2b",
   "metadata": {},
   "outputs": [
    {
     "name": "stdout",
     "output_type": "stream",
     "text": [
      "14.12190840546256\n"
     ]
    }
   ],
   "source": [
    "stAge = df1['Age'].std() # Calculo Desviación estandar\n",
    "print(stAge)"
   ]
  },
  {
   "cell_type": "markdown",
   "id": "958a901e-7c93-49d1-b912-82547fd5845c",
   "metadata": {},
   "source": [
    "#### La diferencia media entre la distancia de todos los datos a la meda aritmetica es de 14.12 años"
   ]
  },
  {
   "cell_type": "code",
   "execution_count": 155,
   "id": "163a22d5-6105-4a09-9ab5-09716020b9e0",
   "metadata": {},
   "outputs": [
    {
     "name": "stdout",
     "output_type": "stream",
     "text": [
      "0.4791726137600303\n"
     ]
    }
   ],
   "source": [
    "cv = stAge / meanAge # Calculo coeficiente \n",
    "print(cv)"
   ]
  },
  {
   "cell_type": "markdown",
   "id": "aa8f6d09-8f14-406b-94ff-0f4c56d85543",
   "metadata": {},
   "source": [
    "#### Como cv < 0.5, la media artimetica es representativa de"
   ]
  },
  {
   "cell_type": "markdown",
   "id": "2a0162cd-4985-49d2-8a7e-5c46cf8775cc",
   "metadata": {
    "tags": []
   },
   "source": [
    "#### <span style=\"color: #7A3BDB\">Asimetria</span>"
   ]
  },
  {
   "cell_type": "code",
   "execution_count": 156,
   "id": "eaa860d3-9d42-4ea6-a13f-ebf117f1f845",
   "metadata": {},
   "outputs": [
    {
     "data": {
      "text/plain": [
       "0.44718857190799916"
      ]
     },
     "execution_count": 156,
     "metadata": {},
     "output_type": "execute_result"
    }
   ],
   "source": [
    "df1['Age'].skew()"
   ]
  },
  {
   "cell_type": "markdown",
   "id": "4435a1b4-4bf0-4809-ba6d-e304b867bc38",
   "metadata": {},
   "source": [
    "#### La variable `Age` tiene una asimetria positiva (a la derecha)"
   ]
  },
  {
   "cell_type": "markdown",
   "id": "7385c853-d48e-4b41-b242-03553db013f5",
   "metadata": {},
   "source": [
    "#### <span style=\"color: #7A3BDB\">Curtosis</span>"
   ]
  },
  {
   "cell_type": "code",
   "execution_count": 157,
   "id": "2f379fec-7709-4080-b9cf-152029a13387",
   "metadata": {},
   "outputs": [
    {
     "data": {
      "text/plain": [
       "0.2925590867837582"
      ]
     },
     "execution_count": 157,
     "metadata": {},
     "output_type": "execute_result"
    }
   ],
   "source": [
    "df1['Age'].kurt()"
   ]
  },
  {
   "cell_type": "markdown",
   "id": "24fbf472-a91f-4490-87f7-c7343c68210c",
   "metadata": {
    "tags": []
   },
   "source": [
    "#### La distribucion es Leptocúrtica"
   ]
  },
  {
   "cell_type": "markdown",
   "id": "6e4ac604-448e-41c1-a16b-e27806dabb34",
   "metadata": {
    "tags": []
   },
   "source": [
    "### Variable `Siblings/Spouses Aboard`"
   ]
  },
  {
   "cell_type": "code",
   "execution_count": 158,
   "id": "8f023315-a16f-4c39-8917-d80045a41d80",
   "metadata": {},
   "outputs": [
    {
     "data": {
      "text/html": [
       "<div>\n",
       "<style scoped>\n",
       "    .dataframe tbody tr th:only-of-type {\n",
       "        vertical-align: middle;\n",
       "    }\n",
       "\n",
       "    .dataframe tbody tr th {\n",
       "        vertical-align: top;\n",
       "    }\n",
       "\n",
       "    .dataframe thead th {\n",
       "        text-align: right;\n",
       "    }\n",
       "</style>\n",
       "<table border=\"1\" class=\"dataframe\">\n",
       "  <thead>\n",
       "    <tr style=\"text-align: right;\">\n",
       "      <th></th>\n",
       "      <th>Frequency</th>\n",
       "    </tr>\n",
       "    <tr>\n",
       "      <th>SiblingsSpousesAboard</th>\n",
       "      <th></th>\n",
       "    </tr>\n",
       "  </thead>\n",
       "  <tbody>\n",
       "    <tr>\n",
       "      <th>0</th>\n",
       "      <td>604</td>\n",
       "    </tr>\n",
       "    <tr>\n",
       "      <th>1</th>\n",
       "      <td>209</td>\n",
       "    </tr>\n",
       "    <tr>\n",
       "      <th>2</th>\n",
       "      <td>28</td>\n",
       "    </tr>\n",
       "    <tr>\n",
       "      <th>3</th>\n",
       "      <td>16</td>\n",
       "    </tr>\n",
       "    <tr>\n",
       "      <th>4</th>\n",
       "      <td>18</td>\n",
       "    </tr>\n",
       "    <tr>\n",
       "      <th>5</th>\n",
       "      <td>5</td>\n",
       "    </tr>\n",
       "    <tr>\n",
       "      <th>8</th>\n",
       "      <td>7</td>\n",
       "    </tr>\n",
       "  </tbody>\n",
       "</table>\n",
       "</div>"
      ],
      "text/plain": [
       "                       Frequency\n",
       "SiblingsSpousesAboard           \n",
       "0                            604\n",
       "1                            209\n",
       "2                             28\n",
       "3                             16\n",
       "4                             18\n",
       "5                              5\n",
       "8                              7"
      ]
     },
     "execution_count": 158,
     "metadata": {},
     "output_type": "execute_result"
    }
   ],
   "source": [
    "(df1.groupby(\"SiblingsSpousesAboard\").agg(Frequency=(\"SiblingsSpousesAboard\", \"count\"))) #Muestra la tabla de frecuencia"
   ]
  },
  {
   "cell_type": "markdown",
   "id": "06c5f7fe-ff37-4592-bd5b-1ba006af5d73",
   "metadata": {},
   "source": [
    "#### Se puede observar que la mayor cantidad de personas no llevaba hermanos(as) ni conyuges a bordo y que la maxima cantidad de estas fue hasta de 8 que la tenian 7 tripulantes"
   ]
  },
  {
   "cell_type": "code",
   "execution_count": 159,
   "id": "b51bbaee-b038-4fb7-8767-c00024e93f85",
   "metadata": {},
   "outputs": [
    {
     "data": {
      "image/png": "[encoded data removed]",
      "text/plain": [
       "<Figure size 432x288 with 1 Axes>"
      ]
     },
     "metadata": {},
     "output_type": "display_data"
    }
   ],
   "source": [
    "countsSiblingsAboard = df1.SiblingsSpousesAboard.value_counts()\n",
    "sns.set(color_codes = True) \n",
    "sns.barplot(x=countsSiblingsAboard.index, y=countsSiblingsAboard.values, palette=\"OrRd\")\n",
    "plt.show()"
   ]
  },
  {
   "cell_type": "markdown",
   "id": "be84b1c7-6842-477a-bc9c-303322628913",
   "metadata": {
    "tags": []
   },
   "source": [
    "#### Se aprecia como la frecuencia baja a medida que la cantidad de hermano/conyuge aumenta"
   ]
  },
  {
   "cell_type": "markdown",
   "id": "9fb438a8-5424-4150-a7c1-0cd965a4304b",
   "metadata": {},
   "source": [
    "#### <span style=\"color: #7A3BDB\">Medidas de centralización</span>"
   ]
  },
  {
   "cell_type": "code",
   "execution_count": 160,
   "id": "bb974cc1-e55e-4e8a-bef2-0bd5bd9dd952",
   "metadata": {},
   "outputs": [
    {
     "name": "stdout",
     "output_type": "stream",
     "text": [
      "0.5253664036076663\n"
     ]
    }
   ],
   "source": [
    "meanSiblingsSpousesAboard = df1['SiblingsSpousesAboard'].mean() # calculo media\n",
    "print(meanSiblingsSpousesAboard)"
   ]
  },
  {
   "cell_type": "markdown",
   "id": "d8336ac2-1964-464d-9dc7-af9ca3dac99a",
   "metadata": {},
   "source": [
    "#### En promedio la gente tiene 0.5 hermano/conyuge redondeando"
   ]
  },
  {
   "cell_type": "code",
   "execution_count": 161,
   "id": "71a8db1c-ca22-4bb2-bf12-f904031f9e02",
   "metadata": {},
   "outputs": [
    {
     "name": "stdout",
     "output_type": "stream",
     "text": [
      "0.0\n"
     ]
    }
   ],
   "source": [
    "medianSiblingsSpousesAboard = df1['SiblingsSpousesAboard'].median() # Calculo mediana\n",
    "print(medianSiblingsSpousesAboard)"
   ]
  },
  {
   "cell_type": "markdown",
   "id": "6fb26496-f986-467d-916e-a5ceb6ea11ae",
   "metadata": {},
   "source": [
    "#### Ya que la mayoria de la acumulacion de la distribucion esta en 0, no es apropiado interpretar la mediana"
   ]
  },
  {
   "cell_type": "code",
   "execution_count": 162,
   "id": "3902be7b-746a-4b19-bc72-ece0d4ffbbe5",
   "metadata": {},
   "outputs": [
    {
     "name": "stdout",
     "output_type": "stream",
     "text": [
      "0    0\n",
      "Name: SiblingsSpousesAboard, dtype: int64\n"
     ]
    }
   ],
   "source": [
    "modeSiblingsSpousesAboard = df1['SiblingsSpousesAboard'].mode() # Calculo moda\n",
    "print(modeSiblingsSpousesAboard)"
   ]
  },
  {
   "cell_type": "markdown",
   "id": "cc8dec83-c051-4dba-aafe-6b422ec74691",
   "metadata": {},
   "source": [
    "#### Como ya lo mostraba el grafico ahora el calculo de la moda lo ratifica, la cantidad de hermanos/conyuges que mas pasajeros tienen es 0"
   ]
  },
  {
   "cell_type": "markdown",
   "id": "c5fab233-f510-40f9-bd54-bbc8a5241ca9",
   "metadata": {},
   "source": [
    "#### <span style=\"color: #7A3BDB\">Medidas de posición</span>"
   ]
  },
  {
   "cell_type": "code",
   "execution_count": 163,
   "id": "c662808f-b0e3-4252-9e81-287d7b1b7e75",
   "metadata": {},
   "outputs": [
    {
     "name": "stdout",
     "output_type": "stream",
     "text": [
      "0.0\n"
     ]
    }
   ],
   "source": [
    "percentile25SiblingsSpousesAboard = df1['SiblingsSpousesAboard'].quantile(0.25) # Percentil 25\n",
    "print(percentile25SiblingsSpousesAboard)"
   ]
  },
  {
   "cell_type": "markdown",
   "id": "57afa5af-326e-4508-a67f-9c3f582f8235",
   "metadata": {},
   "source": [
    "#### El 25% de los datos es menor o igual a 0"
   ]
  },
  {
   "cell_type": "code",
   "execution_count": 164,
   "id": "1699d596-1c28-4d09-a184-b29f305b0ec4",
   "metadata": {},
   "outputs": [
    {
     "name": "stdout",
     "output_type": "stream",
     "text": [
      "1.0\n"
     ]
    }
   ],
   "source": [
    "percentile75SiblingsSpousesAboard = df1['SiblingsSpousesAboard'].quantile(0.75) # Percentil 75\n",
    "print(percentile75SiblingsSpousesAboard)"
   ]
  },
  {
   "cell_type": "markdown",
   "id": "548f89e0-95a8-4499-bf55-ca28c9c4f316",
   "metadata": {},
   "source": [
    "#### El 75% de los datos es menor o igual a 1"
   ]
  },
  {
   "cell_type": "code",
   "execution_count": 165,
   "id": "d770fad8-acda-45df-82ad-6eb300f344b7",
   "metadata": {},
   "outputs": [
    {
     "data": {
      "text/plain": [
       "<AxesSubplot:xlabel='SiblingsSpousesAboard'>"
      ]
     },
     "execution_count": 165,
     "metadata": {},
     "output_type": "execute_result"
    },
    {
     "data": {
      "image/png": "[encoded data removed]",
      "text/plain": [
       "<Figure size 432x288 with 1 Axes>"
      ]
     },
     "metadata": {},
     "output_type": "display_data"
    }
   ],
   "source": [
    "sns.boxplot( x=df1[\"SiblingsSpousesAboard\"]) #genera el diagrama de caja y bigotes"
   ]
  },
  {
   "cell_type": "markdown",
   "id": "794d67e2-2017-42ef-a4e5-3c68ca00f2d7",
   "metadata": {},
   "source": [
    "#### La mediana es 0, el primer cuartil 0 y el tercer cuartil 1, su extremo inferior y superior son 0 y 1 respectivamente, tambien posee 4 valores atipicos el mas alejado es el de 8 hermanas/conyuges.\n",
    "#### Se puede observar que el diagrama es asimetrico a la izquierda, tambien se ver una baja dispersion de los datos."
   ]
  },
  {
   "cell_type": "markdown",
   "id": "cf68a57b-debe-4898-8f9a-7d346417c635",
   "metadata": {},
   "source": [
    "#### <span style=\"color: #7A3BDB\">Medidas de dispersión</span>"
   ]
  },
  {
   "cell_type": "code",
   "execution_count": 166,
   "id": "5b0a4b5f-7c14-45db-83c7-8f4d69bdbc18",
   "metadata": {},
   "outputs": [
    {
     "name": "stdout",
     "output_type": "stream",
     "text": [
      "1.2202926139038686\n"
     ]
    }
   ],
   "source": [
    "varianceSiblingsSpousesAboard = df1['SiblingsSpousesAboard'].var()# Calculo Varianza\n",
    "print(varianceSiblingsSpousesAboard)"
   ]
  },
  {
   "cell_type": "markdown",
   "id": "430fe986-f9a0-4b1b-a14d-49e456fff757",
   "metadata": {},
   "source": [
    "#### Esto nos demuestra que la distribucion de datos posee una baja dispersion."
   ]
  },
  {
   "cell_type": "code",
   "execution_count": 167,
   "id": "abeeb5bd-f271-4004-bc11-09733dd65329",
   "metadata": {},
   "outputs": [
    {
     "name": "stdout",
     "output_type": "stream",
     "text": [
      "1.10466855386757\n"
     ]
    }
   ],
   "source": [
    "stSiblingsSpousesAboard = df1['SiblingsSpousesAboard'].std() # Calculo Desviación estandar\n",
    "print(stSiblingsSpousesAboard)"
   ]
  },
  {
   "cell_type": "markdown",
   "id": "a6556570-aa54-42ed-8313-2ff68c02514b",
   "metadata": {},
   "source": [
    "#### La diferencia media entre la distancia de todos los datos a la meda aritmetica es de 1.10 hermanos/conyugues."
   ]
  },
  {
   "cell_type": "code",
   "execution_count": 168,
   "id": "b1518d51-57ee-47f1-94a5-a3384e78209f",
   "metadata": {},
   "outputs": [
    {
     "name": "stdout",
     "output_type": "stream",
     "text": [
      "2.10266310575222\n"
     ]
    }
   ],
   "source": [
    "cv = stSiblingsSpousesAboard / meanSiblingsSpousesAboard # Calculo varianza\n",
    "print(cv)"
   ]
  },
  {
   "cell_type": "markdown",
   "id": "bd5eee95-0d19-44f2-9756-459625dac256",
   "metadata": {},
   "source": [
    "#### Ya que cv > 1 la media no es representativa y por tanto se rechaza como promedio"
   ]
  },
  {
   "cell_type": "markdown",
   "id": "e41cc725-0ba3-490e-b5c9-1307feb59cfb",
   "metadata": {},
   "source": [
    "#### <span style=\"color: #7A3BDB\">Asimetria</span>"
   ]
  },
  {
   "cell_type": "code",
   "execution_count": 169,
   "id": "56ab2d79-76e3-4173-92b2-be4e75193fd7",
   "metadata": {},
   "outputs": [
    {
     "data": {
      "text/plain": [
       "3.6867597596973"
      ]
     },
     "execution_count": 169,
     "metadata": {},
     "output_type": "execute_result"
    }
   ],
   "source": [
    "df1['SiblingsSpousesAboard'].skew()"
   ]
  },
  {
   "cell_type": "markdown",
   "id": "daf37c25-db51-438d-9541-7a74eb29276d",
   "metadata": {},
   "source": [
    "#### Como la asimetria > 0, es una distribucion asimetrica a la derecha"
   ]
  },
  {
   "cell_type": "markdown",
   "id": "c025aece-9427-4f8f-9e58-3716ffcaba94",
   "metadata": {},
   "source": [
    "#### <span style=\"color: #7A3BDB\">Curtosis</span>"
   ]
  },
  {
   "cell_type": "code",
   "execution_count": 170,
   "id": "2942ad87-fa82-41db-a807-3b3191cc8454",
   "metadata": {},
   "outputs": [
    {
     "data": {
      "text/plain": [
       "17.797537149719055"
      ]
     },
     "execution_count": 170,
     "metadata": {},
     "output_type": "execute_result"
    }
   ],
   "source": [
    "df1['SiblingsSpousesAboard'].kurt()"
   ]
  },
  {
   "cell_type": "markdown",
   "id": "1478866a-f6db-457a-a5d7-421f19066743",
   "metadata": {},
   "source": [
    "#### Ya que la curtosis > 3, la distribucion es leptocúrtica"
   ]
  },
  {
   "cell_type": "markdown",
   "id": "bcb8cd6b-371c-4f6b-89e0-886daf7f8d5d",
   "metadata": {
    "tags": []
   },
   "source": [
    "### Variable `ParentsChildrenAboard`"
   ]
  },
  {
   "cell_type": "code",
   "execution_count": 171,
   "id": "8ae4536c-ec7f-4e30-9777-e3018342f23d",
   "metadata": {},
   "outputs": [
    {
     "data": {
      "text/html": [
       "<div>\n",
       "<style scoped>\n",
       "    .dataframe tbody tr th:only-of-type {\n",
       "        vertical-align: middle;\n",
       "    }\n",
       "\n",
       "    .dataframe tbody tr th {\n",
       "        vertical-align: top;\n",
       "    }\n",
       "\n",
       "    .dataframe thead th {\n",
       "        text-align: right;\n",
       "    }\n",
       "</style>\n",
       "<table border=\"1\" class=\"dataframe\">\n",
       "  <thead>\n",
       "    <tr style=\"text-align: right;\">\n",
       "      <th></th>\n",
       "      <th>Frequency</th>\n",
       "    </tr>\n",
       "    <tr>\n",
       "      <th>ParentsChildrenAboard</th>\n",
       "      <th></th>\n",
       "    </tr>\n",
       "  </thead>\n",
       "  <tbody>\n",
       "    <tr>\n",
       "      <th>0</th>\n",
       "      <td>674</td>\n",
       "    </tr>\n",
       "    <tr>\n",
       "      <th>1</th>\n",
       "      <td>118</td>\n",
       "    </tr>\n",
       "    <tr>\n",
       "      <th>2</th>\n",
       "      <td>80</td>\n",
       "    </tr>\n",
       "    <tr>\n",
       "      <th>3</th>\n",
       "      <td>5</td>\n",
       "    </tr>\n",
       "    <tr>\n",
       "      <th>4</th>\n",
       "      <td>4</td>\n",
       "    </tr>\n",
       "    <tr>\n",
       "      <th>5</th>\n",
       "      <td>5</td>\n",
       "    </tr>\n",
       "    <tr>\n",
       "      <th>6</th>\n",
       "      <td>1</td>\n",
       "    </tr>\n",
       "  </tbody>\n",
       "</table>\n",
       "</div>"
      ],
      "text/plain": [
       "                       Frequency\n",
       "ParentsChildrenAboard           \n",
       "0                            674\n",
       "1                            118\n",
       "2                             80\n",
       "3                              5\n",
       "4                              4\n",
       "5                              5\n",
       "6                              1"
      ]
     },
     "execution_count": 171,
     "metadata": {},
     "output_type": "execute_result"
    }
   ],
   "source": [
    "(df1.groupby(\"ParentsChildrenAboard\").agg(Frequency=(\"ParentsChildrenAboard\", \"count\"))) #Muestra la tabla de frecuencia"
   ]
  },
  {
   "cell_type": "markdown",
   "id": "7e23175c-4abb-4d68-b305-5c647f1ff19c",
   "metadata": {},
   "source": [
    "#### Se puede apreciar que la mayor cantidad de personas tienen entre 0 y 1 padre/niño ademas el minimo es tener 0 padres o niños y el maximo de 6 padre/niño."
   ]
  },
  {
   "cell_type": "code",
   "execution_count": 172,
   "id": "8f23420b-f5eb-4f99-a11c-7eb8a77dbea4",
   "metadata": {},
   "outputs": [
    {
     "data": {
      "image/png": "[encoded data removed]",
      "text/plain": [
       "<Figure size 432x288 with 1 Axes>"
      ]
     },
     "metadata": {},
     "output_type": "display_data"
    }
   ],
   "source": [
    "countsParentsChildrenAboard = df1.ParentsChildrenAboard.value_counts()\n",
    "sns.set(color_codes = True) \n",
    "sns.barplot(x=countsParentsChildrenAboard.index, y=countsParentsChildrenAboard.values, palette=\"OrRd\")\n",
    "plt.show()"
   ]
  },
  {
   "cell_type": "markdown",
   "id": "171f3f4f-7324-45c8-8a42-6536d81f7117",
   "metadata": {},
   "source": [
    "#### Aqui se puede observar de mejor manera como se distribuyen los datos siendo que la mayoria no tenia un padre/niño entre la tripulación."
   ]
  },
  {
   "cell_type": "markdown",
   "id": "39ec032f-f93c-4377-9a39-40dac698714e",
   "metadata": {},
   "source": [
    "#### <span style=\"color: #7A3BDB\">Medidas de centralización</span>"
   ]
  },
  {
   "cell_type": "code",
   "execution_count": 173,
   "id": "da756539-f918-4bbb-81a7-f17c3416c307",
   "metadata": {},
   "outputs": [
    {
     "name": "stdout",
     "output_type": "stream",
     "text": [
      "0.3833145434047351\n"
     ]
    }
   ],
   "source": [
    "meanSiblingsSpousesAboard = df1['ParentsChildrenAboard'].mean() # calculo media\n",
    "print(meanSiblingsSpousesAboard)"
   ]
  },
  {
   "cell_type": "markdown",
   "id": "ccc5ea58-1429-4687-aa4d-d72e47620495",
   "metadata": {},
   "source": [
    "#### EL promedio de padre/niño entre los 887 pasajeros es de 0.3 esto esta mas aproximado a 0 padre/niño"
   ]
  },
  {
   "cell_type": "code",
   "execution_count": 174,
   "id": "7258b521-936e-473e-90c2-0731598135a5",
   "metadata": {},
   "outputs": [
    {
     "name": "stdout",
     "output_type": "stream",
     "text": [
      "0.0\n"
     ]
    }
   ],
   "source": [
    "medianSiblingsSpousesAboard = df1['ParentsChildrenAboard'].median() # Calculo mediana\n",
    "print(medianSiblingsSpousesAboard)"
   ]
  },
  {
   "cell_type": "markdown",
   "id": "bdd1af58-3327-46b0-876a-e9454c72f9dd",
   "metadata": {},
   "source": [
    "#### No conviene interpretar esta medida ya que su valor es 0 "
   ]
  },
  {
   "cell_type": "code",
   "execution_count": 175,
   "id": "a3d76b28-ae8d-41a7-85e0-19496d60962c",
   "metadata": {},
   "outputs": [
    {
     "name": "stdout",
     "output_type": "stream",
     "text": [
      "0    0\n",
      "Name: ParentsChildrenAboard, dtype: int64\n"
     ]
    }
   ],
   "source": [
    "modeSiblingsSpousesAboard = df1['ParentsChildrenAboard'].mode() # Calculo moda\n",
    "print(modeSiblingsSpousesAboard)"
   ]
  },
  {
   "cell_type": "markdown",
   "id": "aea87e31-8c23-42c3-808a-fa695c667f1e",
   "metadata": {},
   "source": [
    "#### La cantidad de personas que tiene 0 padres/niños es la que mas se repite"
   ]
  },
  {
   "cell_type": "markdown",
   "id": "c5360783-3bb5-46b8-a790-ac8611da03c2",
   "metadata": {},
   "source": [
    "#### <span style=\"color: #7A3BDB\">Medidas de posición</span>"
   ]
  },
  {
   "cell_type": "code",
   "execution_count": 176,
   "id": "a6a16636-9c8a-466f-831d-9aa03c4daa6a",
   "metadata": {},
   "outputs": [
    {
     "name": "stdout",
     "output_type": "stream",
     "text": [
      "0.0\n"
     ]
    }
   ],
   "source": [
    "percentile25ParentsChildrenAboard = df1['ParentsChildrenAboard'].quantile(0.25) # Percentil 25\n",
    "print(percentile25ParentsChildrenAboard)"
   ]
  },
  {
   "cell_type": "markdown",
   "id": "be930218-9ed4-47c0-b97c-1f8c914fe1d5",
   "metadata": {},
   "source": [
    "#### El 25% de los datos es menor o igual a 0"
   ]
  },
  {
   "cell_type": "code",
   "execution_count": 177,
   "id": "02e73eec-944a-460d-8244-fae53c388a95",
   "metadata": {},
   "outputs": [
    {
     "name": "stdout",
     "output_type": "stream",
     "text": [
      "0.0\n"
     ]
    }
   ],
   "source": [
    "percentile75ParentsChildrenAboard = df1['ParentsChildrenAboard'].quantile(0.75) # Percentil 75\n",
    "print(percentile75ParentsChildrenAboard)"
   ]
  },
  {
   "cell_type": "markdown",
   "id": "6eb43582-6198-40e5-b7cb-6cf2bf7388cf",
   "metadata": {},
   "source": [
    "#### El 75% de los datos es menor o igual a 0"
   ]
  },
  {
   "cell_type": "code",
   "execution_count": 178,
   "id": "15f5f723-569b-4a8e-931f-fffaff9bd4e5",
   "metadata": {},
   "outputs": [
    {
     "data": {
      "text/plain": [
       "<AxesSubplot:xlabel='ParentsChildrenAboard'>"
      ]
     },
     "execution_count": 178,
     "metadata": {},
     "output_type": "execute_result"
    },
    {
     "data": {
      "image/png": "[encoded data removed]",
      "text/plain": [
       "<Figure size 432x288 with 1 Axes>"
      ]
     },
     "metadata": {},
     "output_type": "display_data"
    }
   ],
   "source": [
    "sns.boxplot( x=df1[\"ParentsChildrenAboard\"]) #genera el diagrama de caja y bigotes"
   ]
  },
  {
   "cell_type": "markdown",
   "id": "51d0a896-379d-4a4a-804c-9e13deda6398",
   "metadata": {},
   "source": [
    "#### Los cuartiles y sus extremos son todos 0, los extremos son 1, 2, 3, 4, 5 y 6."
   ]
  },
  {
   "cell_type": "markdown",
   "id": "a40b3122-8bb1-4bbb-8dd7-c00341ada54a",
   "metadata": {},
   "source": [
    "#### <span style=\"color: #7A3BDB\">Medidas de dispersión</span>"
   ]
  },
  {
   "cell_type": "code",
   "execution_count": 179,
   "id": "46cc5498-b6ab-42c5-86fc-cdcb7f79e3bd",
   "metadata": {},
   "outputs": [
    {
     "name": "stdout",
     "output_type": "stream",
     "text": [
      "0.652001191018499\n"
     ]
    }
   ],
   "source": [
    "varianceParentsChildrenAboard = df1['ParentsChildrenAboard'].var()# Calculo Varianza\n",
    "print(varianceParentsChildrenAboard)"
   ]
  },
  {
   "cell_type": "markdown",
   "id": "760a6f42-59bb-4f56-b58f-59501933e53a",
   "metadata": {},
   "source": [
    "#### Esta distribucion casi no posee dispersión"
   ]
  },
  {
   "cell_type": "code",
   "execution_count": 180,
   "id": "bea2debf-23de-49d3-8afd-c21690277daf",
   "metadata": {},
   "outputs": [
    {
     "name": "stdout",
     "output_type": "stream",
     "text": [
      "0.8074659070316833\n"
     ]
    }
   ],
   "source": [
    "stParentsChildrenAboard = df1['ParentsChildrenAboard'].std() # Calculo Desviación estandar\n",
    "print(stParentsChildrenAboard)"
   ]
  },
  {
   "cell_type": "markdown",
   "id": "480886cc-a2fd-45c7-bd22-4fca0810bfbd",
   "metadata": {},
   "source": [
    "#### La diferencia media entre la distancia de todos los datos a la meda aritmetica es de 0.8 padres/niños"
   ]
  },
  {
   "cell_type": "code",
   "execution_count": 181,
   "id": "422127c4-5855-4f96-92d8-70be03bbeae3",
   "metadata": {},
   "outputs": [
    {
     "name": "stdout",
     "output_type": "stream",
     "text": [
      "2.1065360574620677\n"
     ]
    }
   ],
   "source": [
    "cv = stParentsChildrenAboard / meanSiblingsSpousesAboard # Calculo varianza\n",
    "print(cv)"
   ]
  },
  {
   "cell_type": "markdown",
   "id": "8959a502-ac08-444c-a823-8ce102b52646",
   "metadata": {},
   "source": [
    "#### Ya que cv > 1 la media no es representativa y por tanto se rechaza como promedio"
   ]
  },
  {
   "cell_type": "markdown",
   "id": "be4b26e7-0e9d-46c3-ab35-c8126f3cccb1",
   "metadata": {},
   "source": [
    "#### <span style=\"color: #7A3BDB\">Asimetria</span>"
   ]
  },
  {
   "cell_type": "code",
   "execution_count": 182,
   "id": "8a83c53d-c56d-4305-a7b2-17291eda17cc",
   "metadata": {},
   "outputs": [
    {
     "data": {
      "text/plain": [
       "2.74119806158299"
      ]
     },
     "execution_count": 182,
     "metadata": {},
     "output_type": "execute_result"
    }
   ],
   "source": [
    "df1['ParentsChildrenAboard'].skew()"
   ]
  },
  {
   "cell_type": "markdown",
   "id": "06dd1d69-71c5-43dd-ad81-93bb9fa388c8",
   "metadata": {},
   "source": [
    "#### ya que la asimetria es mayor a cero la distribución es asimetrica a la derecha"
   ]
  },
  {
   "cell_type": "markdown",
   "id": "f800d33c-de82-41bb-b515-9032f2b1a888",
   "metadata": {},
   "source": [
    "#### <span style=\"color: #7A3BDB\">Curtosis</span>"
   ]
  },
  {
   "cell_type": "code",
   "execution_count": 183,
   "id": "3369d8b6-b9da-412e-becd-19f813d7f713",
   "metadata": {},
   "outputs": [
    {
     "data": {
      "text/plain": [
       "9.72306591995913"
      ]
     },
     "execution_count": 183,
     "metadata": {},
     "output_type": "execute_result"
    }
   ],
   "source": [
    "df1['ParentsChildrenAboard'].kurt()"
   ]
  },
  {
   "cell_type": "markdown",
   "id": "1d705ecf-79ab-4ae3-9c75-3e3bdb879725",
   "metadata": {},
   "source": [
    "#### Ya que curtosis > 3 la distribucion es Leptocúrtica"
   ]
  },
  {
   "cell_type": "markdown",
   "id": "2fe3bc22-c217-4a2c-8827-828b7824e4a1",
   "metadata": {
    "tags": []
   },
   "source": [
    "### Variable `Fare`"
   ]
  },
  {
   "cell_type": "code",
   "execution_count": 184,
   "id": "a0ea55bb-b6d9-4335-bc41-e0223d2be652",
   "metadata": {},
   "outputs": [
    {
     "data": {
      "text/html": [
       "<div>\n",
       "<style scoped>\n",
       "    .dataframe tbody tr th:only-of-type {\n",
       "        vertical-align: middle;\n",
       "    }\n",
       "\n",
       "    .dataframe tbody tr th {\n",
       "        vertical-align: top;\n",
       "    }\n",
       "\n",
       "    .dataframe thead th {\n",
       "        text-align: right;\n",
       "    }\n",
       "</style>\n",
       "<table border=\"1\" class=\"dataframe\">\n",
       "  <thead>\n",
       "    <tr style=\"text-align: right;\">\n",
       "      <th></th>\n",
       "      <th>Frequency</th>\n",
       "    </tr>\n",
       "    <tr>\n",
       "      <th>Fare</th>\n",
       "      <th></th>\n",
       "    </tr>\n",
       "  </thead>\n",
       "  <tbody>\n",
       "    <tr>\n",
       "      <th>0.0000</th>\n",
       "      <td>15</td>\n",
       "    </tr>\n",
       "    <tr>\n",
       "      <th>4.0125</th>\n",
       "      <td>1</td>\n",
       "    </tr>\n",
       "    <tr>\n",
       "      <th>5.0000</th>\n",
       "      <td>1</td>\n",
       "    </tr>\n",
       "    <tr>\n",
       "      <th>6.2375</th>\n",
       "      <td>1</td>\n",
       "    </tr>\n",
       "    <tr>\n",
       "      <th>6.4375</th>\n",
       "      <td>1</td>\n",
       "    </tr>\n",
       "    <tr>\n",
       "      <th>...</th>\n",
       "      <td>...</td>\n",
       "    </tr>\n",
       "    <tr>\n",
       "      <th>227.5250</th>\n",
       "      <td>4</td>\n",
       "    </tr>\n",
       "    <tr>\n",
       "      <th>247.5208</th>\n",
       "      <td>2</td>\n",
       "    </tr>\n",
       "    <tr>\n",
       "      <th>262.3750</th>\n",
       "      <td>2</td>\n",
       "    </tr>\n",
       "    <tr>\n",
       "      <th>263.0000</th>\n",
       "      <td>4</td>\n",
       "    </tr>\n",
       "    <tr>\n",
       "      <th>512.3292</th>\n",
       "      <td>3</td>\n",
       "    </tr>\n",
       "  </tbody>\n",
       "</table>\n",
       "<p>248 rows × 1 columns</p>\n",
       "</div>"
      ],
      "text/plain": [
       "          Frequency\n",
       "Fare               \n",
       "0.0000           15\n",
       "4.0125            1\n",
       "5.0000            1\n",
       "6.2375            1\n",
       "6.4375            1\n",
       "...             ...\n",
       "227.5250          4\n",
       "247.5208          2\n",
       "262.3750          2\n",
       "263.0000          4\n",
       "512.3292          3\n",
       "\n",
       "[248 rows x 1 columns]"
      ]
     },
     "execution_count": 184,
     "metadata": {},
     "output_type": "execute_result"
    }
   ],
   "source": [
    "(df1.groupby(\"Fare\").agg(Frequency=(\"Fare\", \"count\"))) #Muestra la tabla de frecuencia"
   ]
  },
  {
   "cell_type": "markdown",
   "id": "74c29eb4-da2d-4383-9015-161deea4aac9",
   "metadata": {},
   "source": [
    "#### Se puede ver mucha heterogeneidad entre los datos"
   ]
  },
  {
   "cell_type": "markdown",
   "id": "c628fc7a-e25d-4fb7-b425-e5db9150133d",
   "metadata": {},
   "source": [
    "#### Ya que son muchos datos no conviene generar un grafico de barras, porque no es posible representarlos bien en este pequeño espacio que brinda el notebook"
   ]
  },
  {
   "cell_type": "markdown",
   "id": "5afa5bf4-a0cc-461e-aab6-d4be6ba927bc",
   "metadata": {},
   "source": [
    "#### <span style=\"color: #7A3BDB\">Medidas de centralización</span>"
   ]
  },
  {
   "cell_type": "code",
   "execution_count": 185,
   "id": "d58efbcc-1887-4f61-81da-ff7ee302a3f5",
   "metadata": {},
   "outputs": [
    {
     "name": "stdout",
     "output_type": "stream",
     "text": [
      "32.30542018038331\n"
     ]
    }
   ],
   "source": [
    "meanFare = df1['Fare'].mean() # calculo media\n",
    "print(meanFare)"
   ]
  },
  {
   "cell_type": "markdown",
   "id": "95cabae3-22b2-4095-909c-3a8e4d2a9e7b",
   "metadata": {},
   "source": [
    "#### El promedio del billete por pasajero es de 32.30 libras esterlinas"
   ]
  },
  {
   "cell_type": "code",
   "execution_count": 186,
   "id": "9e69ba3a-0642-43c1-a704-dc35a3006e19",
   "metadata": {},
   "outputs": [
    {
     "name": "stdout",
     "output_type": "stream",
     "text": [
      "14.4542\n"
     ]
    }
   ],
   "source": [
    "medianFare = df1['Fare'].median() # Calculo mediana\n",
    "print(medianFare)"
   ]
  },
  {
   "cell_type": "markdown",
   "id": "a72ef007-7ba5-414c-8b5f-6a8cf419536e",
   "metadata": {},
   "source": [
    "#### El 50% de la tarifa es menor a 14.4542 y el otro 50% mayor a este valor"
   ]
  },
  {
   "cell_type": "code",
   "execution_count": 187,
   "id": "0235f7f2-24ec-4a6f-bbc8-ab6584e09688",
   "metadata": {},
   "outputs": [
    {
     "name": "stdout",
     "output_type": "stream",
     "text": [
      "0    8.05\n",
      "Name: Fare, dtype: float64\n"
     ]
    }
   ],
   "source": [
    "modeFare = df1['Fare'].mode() # Calculo moda\n",
    "print(modeFare)"
   ]
  },
  {
   "cell_type": "markdown",
   "id": "e7a90372-3180-4eef-b299-bb5acc158c59",
   "metadata": {},
   "source": [
    "#### El valor de tarifa que mas se repite es de 8.05 libras esterlinas"
   ]
  },
  {
   "cell_type": "markdown",
   "id": "d8795f99-8d31-42e4-bfd9-ca89a809ddc1",
   "metadata": {},
   "source": [
    "#### <span style=\"color: #7A3BDB\">Medidas de posición</span>"
   ]
  },
  {
   "cell_type": "code",
   "execution_count": 188,
   "id": "8976ceba-7e31-4bbe-95ea-7344b5e9110c",
   "metadata": {},
   "outputs": [
    {
     "name": "stdout",
     "output_type": "stream",
     "text": [
      "7.925\n"
     ]
    }
   ],
   "source": [
    "percentile25Fare = df1['Fare'].quantile(0.25) # Percentil 25\n",
    "print(percentile25Fare)"
   ]
  },
  {
   "cell_type": "markdown",
   "id": "d3d0e1f5-1d6d-4baf-a039-3712211c72ca",
   "metadata": {},
   "source": [
    "#### El 25% de los datos es menor o igual a 7.925 libras esterlinas"
   ]
  },
  {
   "cell_type": "code",
   "execution_count": 189,
   "id": "c713aec6-efe4-41fe-b37c-f583040fab63",
   "metadata": {},
   "outputs": [
    {
     "name": "stdout",
     "output_type": "stream",
     "text": [
      "31.1375\n"
     ]
    }
   ],
   "source": [
    "percentile75Fare = df1['Fare'].quantile(0.75) # Percentil 75\n",
    "print(percentile75Fare)"
   ]
  },
  {
   "cell_type": "markdown",
   "id": "672ca242-f1c5-4eea-b399-43a458c39cb2",
   "metadata": {},
   "source": [
    "#### El 25% de los datos es menor o igual a 31.1375 libras esterlinas"
   ]
  },
  {
   "cell_type": "code",
   "execution_count": 190,
   "id": "a19e3bb6-c3ff-422c-9e74-37e7fc5ddfca",
   "metadata": {},
   "outputs": [
    {
     "data": {
      "text/plain": [
       "<AxesSubplot:xlabel='Fare'>"
      ]
     },
     "execution_count": 190,
     "metadata": {},
     "output_type": "execute_result"
    },
    {
     "data": {
      "image/png": "[encoded data removed]",
      "text/plain": [
       "<Figure size 432x288 with 1 Axes>"
      ]
     },
     "metadata": {},
     "output_type": "display_data"
    }
   ],
   "source": [
    "sns.boxplot( x=df[\"Fare\"]) #Diagrama de caja y bitote"
   ]
  },
  {
   "cell_type": "markdown",
   "id": "7e53c7cf-34dd-4ce7-bd22-4065414071a2",
   "metadata": {},
   "source": [
    "#### La mediana es 14.4542 libras, el primer cuartil 7.925 libras y el tercer cuartil 31.1375 libras, su extremo inferior es de 0 libras y extremo superior de 75 libras aproximadamente, y su valor mas atipico es de 512.3292 libras esterlinas. \n",
    "#### Se puede observar que el diagrama es asimetrico a la izquierda, tambien tiene una muy alta dispersion de los datos."
   ]
  },
  {
   "cell_type": "markdown",
   "id": "d153b2c1-38e4-4c59-bacd-1fc97ed20340",
   "metadata": {},
   "source": [
    "#### <span style=\"color: #7A3BDB\">Medidas de dispersión</span>"
   ]
  },
  {
   "cell_type": "code",
   "execution_count": 191,
   "id": "96bfb06d-7ef0-4dd0-b8a6-ee419ee9de53",
   "metadata": {},
   "outputs": [
    {
     "name": "stdout",
     "output_type": "stream",
     "text": [
      "2478.2515464045473\n"
     ]
    }
   ],
   "source": [
    "varianceFare = df1['Fare'].var()# Calculo Varianza\n",
    "print(varianceFare)"
   ]
  },
  {
   "cell_type": "markdown",
   "id": "2904b301-53e1-4030-8a7b-3a5ab6c67f41",
   "metadata": {},
   "source": [
    "#### Esta distribucion posee una alta dispersión"
   ]
  },
  {
   "cell_type": "code",
   "execution_count": 192,
   "id": "0d1ae6ce-462b-4420-af69-73d2129313a4",
   "metadata": {},
   "outputs": [
    {
     "name": "stdout",
     "output_type": "stream",
     "text": [
      "49.78204040017391\n"
     ]
    }
   ],
   "source": [
    "stFare = df1['Fare'].std() # Calculo Desviación estandar\n",
    "print(stFare)"
   ]
  },
  {
   "cell_type": "markdown",
   "id": "3a63da51-a19f-4ee5-be34-2fdde4894bb2",
   "metadata": {},
   "source": [
    "#### La diferencia media entre la distancia de todos los datos a la meda aritmetica es de 49.782 libras esterlinas por boleto."
   ]
  },
  {
   "cell_type": "code",
   "execution_count": 193,
   "id": "b55c1c03-68b9-41dc-a6d0-b79e13963f60",
   "metadata": {},
   "outputs": [
    {
     "name": "stdout",
     "output_type": "stream",
     "text": [
      "1.5409810527832992\n"
     ]
    }
   ],
   "source": [
    "cv = stFare / meanFare # Calculo varianza\n",
    "print(cv)"
   ]
  },
  {
   "cell_type": "markdown",
   "id": "0e626e4a-d370-4638-a4ee-1cba50406615",
   "metadata": {},
   "source": [
    "#### Ya que cv > 1 la media no es representativa y por tanto se rechaza como promedio"
   ]
  },
  {
   "cell_type": "markdown",
   "id": "ba1f4db4-0e60-42df-ba30-d4c03ba2aafe",
   "metadata": {},
   "source": [
    "#### <span style=\"color: #7A3BDB\">Asimetria</span>"
   ]
  },
  {
   "cell_type": "code",
   "execution_count": 194,
   "id": "46a40355-0739-4cf2-8936-4fed3bdbed05",
   "metadata": {},
   "outputs": [
    {
     "data": {
      "text/plain": [
       "4.777671399019824"
      ]
     },
     "execution_count": 194,
     "metadata": {},
     "output_type": "execute_result"
    }
   ],
   "source": [
    "df1['Fare'].skew()"
   ]
  },
  {
   "cell_type": "markdown",
   "id": "e9125ec7-6f7c-4ba6-a179-e0705ca643a9",
   "metadata": {},
   "source": [
    "#### Ya que la asimetría es mayor que cero esta es una distribucion asimétrica a la derecha"
   ]
  },
  {
   "cell_type": "markdown",
   "id": "82147617-b4ee-4fb2-9a2a-2c35e2eaae30",
   "metadata": {},
   "source": [
    "#### <span style=\"color: #7A3BDB\">Curtosis</span>"
   ]
  },
  {
   "cell_type": "code",
   "execution_count": 195,
   "id": "a42af339-211c-49b6-bdb1-dc781c3a74cb",
   "metadata": {},
   "outputs": [
    {
     "data": {
      "text/plain": [
       "33.26460490128922"
      ]
     },
     "execution_count": 195,
     "metadata": {},
     "output_type": "execute_result"
    }
   ],
   "source": [
    "df1['Fare'].kurt()"
   ]
  },
  {
   "cell_type": "markdown",
   "id": "4330f3f1-fda7-4ef8-b8ac-60cc3a62daf4",
   "metadata": {},
   "source": [
    "#### La curtosis es mayor a 3 por tanto la distribución es Leptocúrtica"
   ]
  },
  {
   "cell_type": "markdown",
   "id": "ad265589-fe18-4e71-a596-16fff797e828",
   "metadata": {
    "tags": []
   },
   "source": [
    "## **Mapas de correlacion**"
   ]
  },
  {
   "cell_type": "markdown",
   "id": "47f7b33c-2c4d-48ce-b9bb-68f9546de624",
   "metadata": {
    "tags": []
   },
   "source": [
    "#### <span style=\"color: #7A3BDB\">Correlacion</span>"
   ]
  },
  {
   "cell_type": "code",
   "execution_count": 220,
   "id": "2e3c957e-5ab9-4765-a3a5-3804709fa5a0",
   "metadata": {},
   "outputs": [
    {
     "data": {
      "text/html": [
       "<div>\n",
       "<style scoped>\n",
       "    .dataframe tbody tr th:only-of-type {\n",
       "        vertical-align: middle;\n",
       "    }\n",
       "\n",
       "    .dataframe tbody tr th {\n",
       "        vertical-align: top;\n",
       "    }\n",
       "\n",
       "    .dataframe thead th {\n",
       "        text-align: right;\n",
       "    }\n",
       "</style>\n",
       "<table border=\"1\" class=\"dataframe\">\n",
       "  <thead>\n",
       "    <tr style=\"text-align: right;\">\n",
       "      <th></th>\n",
       "      <th>Age</th>\n",
       "      <th>Siblings/Spouses Aboard</th>\n",
       "      <th>Parents/Children Aboard</th>\n",
       "      <th>Fare</th>\n",
       "    </tr>\n",
       "  </thead>\n",
       "  <tbody>\n",
       "    <tr>\n",
       "      <th>0</th>\n",
       "      <td>22.0</td>\n",
       "      <td>1</td>\n",
       "      <td>0</td>\n",
       "      <td>7.2500</td>\n",
       "    </tr>\n",
       "    <tr>\n",
       "      <th>1</th>\n",
       "      <td>38.0</td>\n",
       "      <td>1</td>\n",
       "      <td>0</td>\n",
       "      <td>71.2833</td>\n",
       "    </tr>\n",
       "    <tr>\n",
       "      <th>2</th>\n",
       "      <td>26.0</td>\n",
       "      <td>0</td>\n",
       "      <td>0</td>\n",
       "      <td>7.9250</td>\n",
       "    </tr>\n",
       "    <tr>\n",
       "      <th>3</th>\n",
       "      <td>35.0</td>\n",
       "      <td>1</td>\n",
       "      <td>0</td>\n",
       "      <td>53.1000</td>\n",
       "    </tr>\n",
       "    <tr>\n",
       "      <th>4</th>\n",
       "      <td>35.0</td>\n",
       "      <td>0</td>\n",
       "      <td>0</td>\n",
       "      <td>8.0500</td>\n",
       "    </tr>\n",
       "  </tbody>\n",
       "</table>\n",
       "</div>"
      ],
      "text/plain": [
       "    Age  Siblings/Spouses Aboard  Parents/Children Aboard     Fare\n",
       "0  22.0                        1                        0   7.2500\n",
       "1  38.0                        1                        0  71.2833\n",
       "2  26.0                        0                        0   7.9250\n",
       "3  35.0                        1                        0  53.1000\n",
       "4  35.0                        0                        0   8.0500"
      ]
     },
     "execution_count": 220,
     "metadata": {},
     "output_type": "execute_result"
    }
   ],
   "source": [
    "cols1 = df1.columns.tolist()\n",
    "reorder_cols1 = cols[4:] \n",
    "df2 = df[reorder_cols1] #Reordenamos el DataFrame para dejar solo las variables cuantitativas\n",
    "df2.head()"
   ]
  },
  {
   "cell_type": "markdown",
   "id": "2466a9db-71a1-4c18-9c7e-24d91e4fd124",
   "metadata": {},
   "source": [
    "#### Reordenaremos el DateFrame para dejar solo las variables cuantitativas"
   ]
  },
  {
   "cell_type": "code",
   "execution_count": 221,
   "id": "c364309b-88e2-4c3c-a1f7-dc5ef38f8732",
   "metadata": {},
   "outputs": [
    {
     "data": {
      "text/html": [
       "<div>\n",
       "<style scoped>\n",
       "    .dataframe tbody tr th:only-of-type {\n",
       "        vertical-align: middle;\n",
       "    }\n",
       "\n",
       "    .dataframe tbody tr th {\n",
       "        vertical-align: top;\n",
       "    }\n",
       "\n",
       "    .dataframe thead th {\n",
       "        text-align: right;\n",
       "    }\n",
       "</style>\n",
       "<table border=\"1\" class=\"dataframe\">\n",
       "  <thead>\n",
       "    <tr style=\"text-align: right;\">\n",
       "      <th></th>\n",
       "      <th>Age</th>\n",
       "      <th>Siblings/Spouses Aboard</th>\n",
       "      <th>Parents/Children Aboard</th>\n",
       "      <th>Fare</th>\n",
       "    </tr>\n",
       "  </thead>\n",
       "  <tbody>\n",
       "    <tr>\n",
       "      <th>Age</th>\n",
       "      <td>1.000000</td>\n",
       "      <td>-0.297669</td>\n",
       "      <td>-0.193741</td>\n",
       "      <td>0.112329</td>\n",
       "    </tr>\n",
       "    <tr>\n",
       "      <th>Siblings/Spouses Aboard</th>\n",
       "      <td>-0.297669</td>\n",
       "      <td>1.000000</td>\n",
       "      <td>0.414244</td>\n",
       "      <td>0.158839</td>\n",
       "    </tr>\n",
       "    <tr>\n",
       "      <th>Parents/Children Aboard</th>\n",
       "      <td>-0.193741</td>\n",
       "      <td>0.414244</td>\n",
       "      <td>1.000000</td>\n",
       "      <td>0.215470</td>\n",
       "    </tr>\n",
       "    <tr>\n",
       "      <th>Fare</th>\n",
       "      <td>0.112329</td>\n",
       "      <td>0.158839</td>\n",
       "      <td>0.215470</td>\n",
       "      <td>1.000000</td>\n",
       "    </tr>\n",
       "  </tbody>\n",
       "</table>\n",
       "</div>"
      ],
      "text/plain": [
       "                              Age  Siblings/Spouses Aboard  \\\n",
       "Age                      1.000000                -0.297669   \n",
       "Siblings/Spouses Aboard -0.297669                 1.000000   \n",
       "Parents/Children Aboard -0.193741                 0.414244   \n",
       "Fare                     0.112329                 0.158839   \n",
       "\n",
       "                         Parents/Children Aboard      Fare  \n",
       "Age                                    -0.193741  0.112329  \n",
       "Siblings/Spouses Aboard                 0.414244  0.158839  \n",
       "Parents/Children Aboard                 1.000000  0.215470  \n",
       "Fare                                    0.215470  1.000000  "
      ]
     },
     "execution_count": 221,
     "metadata": {},
     "output_type": "execute_result"
    }
   ],
   "source": [
    "correlacionDf2 = df2.corr(method='pearson')\n",
    "correlacionDf2"
   ]
  },
  {
   "cell_type": "code",
   "execution_count": 228,
   "id": "9bc6268b-282e-42d3-a242-437bac830df7",
   "metadata": {},
   "outputs": [
    {
     "data": {
      "text/plain": [
       "<matplotlib.image.AxesImage at 0x7f0dbae09ed0>"
      ]
     },
     "execution_count": 228,
     "metadata": {},
     "output_type": "execute_result"
    },
    {
     "data": {
      "image/png": "[encoded data removed]",
      "text/plain": [
       "<Figure size 288x288 with 1 Axes>"
      ]
     },
     "metadata": {},
     "output_type": "display_data"
    }
   ],
   "source": [
    "plt.matshow(correlacionDf2)"
   ]
  },
  {
   "cell_type": "markdown",
   "id": "741cbb77-e625-4613-b1a1-ab1c79f34d04",
   "metadata": {},
   "source": [
    "#### Los colores oscuros representan los valores negativos y los claros a los positivos.\n",
    "#### El color rojo representa una correlación lineal positiva con las variables Siblings/Spouses Aboard y Parents/Children Aboard"
   ]
  },
  {
   "cell_type": "code",
   "execution_count": 235,
   "id": "e3034d13-de2f-4ca6-8cba-b7b6575b1931",
   "metadata": {},
   "outputs": [
    {
     "data": {
      "text/plain": [
       "Text(0, 0.5, 'padres/niños abordo')"
      ]
     },
     "execution_count": 235,
     "metadata": {},
     "output_type": "execute_result"
    },
    {
     "data": {
      "image/png": "[encoded data removed]",
      "text/plain": [
       "<Figure size 432x288 with 1 Axes>"
      ]
     },
     "metadata": {},
     "output_type": "display_data"
    }
   ],
   "source": [
    "plt.plot(df2[\"Parents/Children Aboard\"], df[\"Siblings/Spouses Aboard\"], \"ro\")\n",
    "plt.xlabel(\"hermanos/conyugues abordo\")\n",
    "plt.ylabel(\"padres/niños abordo\")"
   ]
  },
  {
   "cell_type": "markdown",
   "id": "15b278c2-5da2-4a1a-89b1-e70688bcc663",
   "metadata": {},
   "source": [
    "#### El grafico no muestra mucha correlacion entre ambas variables"
   ]
  },
  {
   "cell_type": "markdown",
   "id": "82c9bfe7-b53b-42ae-ac98-63a5d514d84e",
   "metadata": {},
   "source": [
    "## **Conclusiones**"
   ]
  },
  {
   "cell_type": "markdown",
   "id": "78b12187-10c0-468b-8e74-09db5248335d",
   "metadata": {},
   "source": [
    "- Como se dijo mas arriba la variable `Name` podria quedar como un identificador unico.\n",
    "- Al menos para este analisis las variables cualitativas no dieron mucha información en cambio en las cuantitativas todas mostraron mucha asimetria y dispersion de los datos a excepcion de la variable `Age`, quiza teniendo al total de pasajeros de este barco se puedan tener mejores distribuciones.\n",
    "- Las variables `Parents/Children Aboard` y `Siblings/Spouses Aboard` se podrian juntar y hacer una sola llamada parientes esto dada su correlacion y el sentido que tienen.\n"
   ]
  },
  {
   "cell_type": "code",
   "execution_count": null,
   "id": "457a1a17-ac7b-457f-b996-212006fe2a0d",
   "metadata": {},
   "outputs": [],
   "source": []
  }
 ],
 "metadata": {
  "kernelspec": {
   "display_name": "Python 3 (ipykernel)",
   "language": "python",
   "name": "python3"
  },
  "language_info": {
   "codemirror_mode": {
    "name": "ipython",
    "version": 3
   },
   "file_extension": ".py",
   "mimetype": "text/x-python",
   "name": "python",
   "nbconvert_exporter": "python",
   "pygments_lexer": "ipython3",
   "version": "3.10.4"
  }
 },
 "nbformat": 4,
 "nbformat_minor": 5
}
